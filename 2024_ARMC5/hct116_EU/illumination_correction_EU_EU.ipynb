{
 "cells": [
  {
   "cell_type": "code",
   "execution_count": 1,
   "id": "f08af4ae-f48f-40c4-a431-0fdcf31b1f4a",
   "metadata": {},
   "outputs": [
    {
     "name": "stderr",
     "output_type": "stream",
     "text": [
      "03-Sep-24 14:08:54 - bfio.backends - WARNING  - Java backend is not available. This could be due to a missing dependency (jpype).\n"
     ]
    }
   ],
   "source": [
    "import numpy as np\n",
    "import glob\n",
    "import re\n",
    "\n",
    "from aicsimageio import AICSImage, readers\n",
    "from pathlib import Path\n",
    "from matplotlib import pyplot as plt\n",
    "\n",
    "from blimp.preprocessing.illumination_correction import IlluminationCorrection"
   ]
  },
  {
   "cell_type": "markdown",
   "id": "bbe78d30-461a-42d6-9f1a-e54399e6e45c",
   "metadata": {},
   "source": [
    "# Correct illumination\n",
    "\n",
    "Search images of the correct channel in the input directories"
   ]
  },
  {
   "cell_type": "code",
   "execution_count": 2,
   "id": "72412090-e334-42db-b698-c0e049b96414",
   "metadata": {},
   "outputs": [],
   "source": [
    "images_dir_1 = Path(\"/srv/scratch/berrylab/z3532965/NikonSpinningDisk/ARMC5_KD_EU/240628_ARMC5_EU/Cycle2_EU/20240701_175159_151/OME-TIFF-MIP\")\n",
    "images_dir_2 = Path(\"/srv/scratch/berrylab/z3532965/NikonSpinningDisk/ARMC5_KD_EU/240705_ARMC5_EU/Cycle2_EU/20240708_171627_050/OME-TIFF-MIP\")\n",
    "images_dir_3 = Path(\"/srv/scratch/berrylab/z3532965/NikonSpinningDisk/ARMC5_KD_EU/240713_ARMC5_EU/Cycle2_EU/20240715_173604_562/OME-TIFF-MIP\")\n",
    "image_files_1 = glob.glob(str(images_dir_1 / \"*.tiff\"))\n",
    "image_files_2 = glob.glob(str(images_dir_2 / \"*.tiff\"))\n",
    "image_files_3 = glob.glob(str(images_dir_3 / \"*.tiff\"))"
   ]
  },
  {
   "cell_type": "markdown",
   "id": "2d90f03e-fd87-46a5-a29c-ca6562a9aae6",
   "metadata": {},
   "source": [
    "Bright dust in images can be detrimental for calculation of a standard deviation for illumination correction. We check that all images are within the same intensity range"
   ]
  },
  {
   "cell_type": "code",
   "execution_count": 3,
   "id": "87cc78ca-2e55-4dc3-92f6-0a0e0cb952ea",
   "metadata": {
    "tags": []
   },
   "outputs": [],
   "source": [
    "def find_outlier_indices(image_files):\n",
    "    n_channels = AICSImage(image_files[0],reader=readers.ome_tiff_reader.OmeTiffReader).dims.C\n",
    "    image_std = np.stack(\n",
    "        [[np.std(a=AICSImage(image_file,reader=readers.ome_tiff_reader.OmeTiffReader).get_image_data('YX',C=c)) for c in range(n_channels)] for image_file in image_files]\n",
    "    )\n",
    "    image_std_p25 = np.percentile(image_std,25,axis=0)\n",
    "    image_std_p75 = np.percentile(image_std,75,axis=0)\n",
    "    image_std_iqr = image_std_p75 - image_std_p25\n",
    "    upper_limit = image_std_p75 + 1.5*image_std_iqr\n",
    "    outlier = image_std > upper_limit\n",
    "    outlier_indices = np.argwhere(outlier[:,0:2])[:,0]\n",
    "    return outlier_indices, image_std"
   ]
  },
  {
   "cell_type": "code",
   "execution_count": 4,
   "id": "5ec4597c-7eb1-4c3d-a97d-477ab1062203",
   "metadata": {
    "scrolled": true
   },
   "outputs": [
    {
     "name": "stdout",
     "output_type": "stream",
     "text": [
      "CPU times: user 1min, sys: 8.98 s, total: 1min 8s\n",
      "Wall time: 1min 58s\n"
     ]
    }
   ],
   "source": [
    "%%time\n",
    "outlier_indices_1, image_std_1 = find_outlier_indices(image_files_1)\n",
    "reference_image_files_1 = np.delete(image_files_1,outlier_indices_1)"
   ]
  },
  {
   "cell_type": "code",
   "execution_count": 5,
   "id": "69659226-8732-4e1b-a80f-c8214d8af114",
   "metadata": {
    "scrolled": true
   },
   "outputs": [
    {
     "name": "stdout",
     "output_type": "stream",
     "text": [
      "CPU times: user 59.2 s, sys: 8.87 s, total: 1min 8s\n",
      "Wall time: 1min 51s\n"
     ]
    }
   ],
   "source": [
    "%%time\n",
    "outlier_indices_2, image_std_2 = find_outlier_indices(image_files_2)\n",
    "reference_image_files_2 = np.delete(image_files_2,outlier_indices_2)"
   ]
  },
  {
   "cell_type": "code",
   "execution_count": 6,
   "id": "f0b0baf0-1bf0-4454-9a47-2bee3918abc9",
   "metadata": {
    "scrolled": true
   },
   "outputs": [
    {
     "name": "stdout",
     "output_type": "stream",
     "text": [
      "CPU times: user 2min 58s, sys: 27.5 s, total: 3min 26s\n",
      "Wall time: 3min 51s\n"
     ]
    }
   ],
   "source": [
    "%%time\n",
    "outlier_indices_3, image_std_3 = find_outlier_indices(image_files_3)\n",
    "reference_image_files_3 = np.delete(image_files_3,outlier_indices_3)"
   ]
  },
  {
   "cell_type": "code",
   "execution_count": 11,
   "id": "90cf27ed-5b65-420a-a203-2a23fb4adce2",
   "metadata": {},
   "outputs": [],
   "source": [
    "image_files = image_files_1 + image_files_2 #+ image_files_3\n",
    "reference_image_files = reference_image_files_1.tolist() + reference_image_files_2.tolist() #+ reference_image_files_3.tolist()"
   ]
  },
  {
   "cell_type": "code",
   "execution_count": 12,
   "id": "8c4f2e08-2357-4b78-8b81-0a99034bd3e1",
   "metadata": {},
   "outputs": [
    {
     "data": {
      "text/plain": [
       "432"
      ]
     },
     "execution_count": 12,
     "metadata": {},
     "output_type": "execute_result"
    }
   ],
   "source": [
    "len(image_files)"
   ]
  },
  {
   "cell_type": "code",
   "execution_count": 13,
   "id": "39940425-4133-430c-a9b1-83fc6ebe3e44",
   "metadata": {},
   "outputs": [
    {
     "data": {
      "text/plain": [
       "410"
      ]
     },
     "execution_count": 13,
     "metadata": {},
     "output_type": "execute_result"
    }
   ],
   "source": [
    "len(reference_image_files)"
   ]
  },
  {
   "cell_type": "markdown",
   "id": "b06c202e-7ca0-4004-9ee1-44e6718ca518",
   "metadata": {},
   "source": [
    "Fit a ``blimp.IlluminationCorrection`` object"
   ]
  },
  {
   "cell_type": "code",
   "execution_count": null,
   "id": "d5de81b0-6f8c-4fa8-970c-317d1cc7bebc",
   "metadata": {},
   "outputs": [],
   "source": [
    "illumination_correction = IlluminationCorrection(\n",
    "    reference_images=reference_image_files,\n",
    "    timelapse=False,\n",
    ")\n",
    "illumination_correction.plot()"
   ]
  },
  {
   "cell_type": "markdown",
   "id": "d81307da-d23b-4dc8-87c4-b515e4c1d974",
   "metadata": {},
   "source": [
    "# Save illumination correction object to disk\n",
    "\n",
    "The ``blimp.IlluminationCorrection`` object can be persisted on disk to be later applied when analysing images"
   ]
  },
  {
   "cell_type": "code",
   "execution_count": null,
   "id": "39293aa6-47bf-4ea2-9f9e-fc65579f0c0d",
   "metadata": {},
   "outputs": [],
   "source": [
    "illumcorr_filename = \"/srv/scratch/berrylab/z3532965/NikonSpinningDisk/ARMC5_KD_EU/ILLUMCORR/illumination_correction_EU.pkl\""
   ]
  },
  {
   "cell_type": "code",
   "execution_count": null,
   "id": "046ce9d5-3549-4ef7-a176-73e3f808bc2d",
   "metadata": {},
   "outputs": [],
   "source": [
    "illumination_correction.save(Path(illumcorr_filename))"
   ]
  },
  {
   "cell_type": "markdown",
   "id": "554e8f12-63ae-4106-a4b4-28995cb8a00c",
   "metadata": {},
   "source": [
    "# Check results\n",
    "\n",
    "IlluminationCorrection can be applied using the ``correct()`` method of the ``blimp.IlluminationCorrection`` object"
   ]
  },
  {
   "cell_type": "code",
   "execution_count": null,
   "id": "0cc613cf-4734-4afd-997d-00e4bd44f348",
   "metadata": {},
   "outputs": [],
   "source": [
    "illumination_correction = IlluminationCorrection(from_file=illumcorr_filename)"
   ]
  },
  {
   "cell_type": "code",
   "execution_count": null,
   "id": "5906ed19-9bf8-4a60-98fb-882979f04177",
   "metadata": {},
   "outputs": [],
   "source": [
    "illumination_correction.plot()"
   ]
  },
  {
   "cell_type": "code",
   "execution_count": null,
   "id": "f02956ae-e645-4114-94c0-5b576a16fbc1",
   "metadata": {},
   "outputs": [],
   "source": [
    "raw = AICSImage(image_files[102], reader=readers.ome_tiff_reader.OmeTiffReader)\n",
    "corrected = illumination_correction.correct(raw)"
   ]
  },
  {
   "cell_type": "code",
   "execution_count": null,
   "id": "16ab2c37-0d62-414c-a6fd-5e79be28299b",
   "metadata": {},
   "outputs": [],
   "source": [
    "#illumination_correction.mean_image.get_image_data(\"YX\", C=1, Z=0, T=0)\n",
    "illumination_correction.mean_mean_image"
   ]
  },
  {
   "cell_type": "code",
   "execution_count": null,
   "id": "2fc4b683-c66f-41f9-ba92-b9c3b16334fa",
   "metadata": {},
   "outputs": [],
   "source": [
    "fig, axes = plt.subplots(1, 2, figsize=(12, 6))\n",
    "im = axes[0].imshow(raw.get_image_data('YX',C=1,T=0), vmin=0, vmax=2000)\n",
    "fig.colorbar(im, ax=axes[0])\n",
    "axes[0].set_title(\"Original\")\n",
    "im = axes[1].imshow(corrected.get_image_data('YX',C=1,T=0), vmin=0, vmax=2000)\n",
    "fig.colorbar(im, ax=axes[1])\n",
    "axes[1].set_title(\"Corrected\")\n",
    "fig.tight_layout()"
   ]
  },
  {
   "cell_type": "code",
   "execution_count": null,
   "id": "586e5c4f-cfd3-4004-8dac-72e276298b0c",
   "metadata": {},
   "outputs": [],
   "source": [
    "corrected.channel_names"
   ]
  },
  {
   "cell_type": "code",
   "execution_count": null,
   "id": "ddcb98c9-2d69-4bfa-94b7-5f88d73445f3",
   "metadata": {},
   "outputs": [],
   "source": []
  }
 ],
 "metadata": {
  "kernelspec": {
   "display_name": "berrylab-py310-jupyter",
   "language": "python",
   "name": "berrylab-py310-jupyter"
  },
  "language_info": {
   "codemirror_mode": {
    "name": "ipython",
    "version": 3
   },
   "file_extension": ".py",
   "mimetype": "text/x-python",
   "name": "python",
   "nbconvert_exporter": "python",
   "pygments_lexer": "ipython3",
   "version": "3.10.13"
  }
 },
 "nbformat": 4,
 "nbformat_minor": 5
}
