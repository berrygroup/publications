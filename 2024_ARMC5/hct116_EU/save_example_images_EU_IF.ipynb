{
 "cells": [
  {
   "cell_type": "code",
   "execution_count": 1,
   "id": "c638dac0-eab7-43c0-8278-c73d2e64d186",
   "metadata": {},
   "outputs": [
    {
     "name": "stderr",
     "output_type": "stream",
     "text": [
      "03-Sep-24 16:56:25 - bfio.backends - WARNING  - Java backend is not available. This could be due to a missing dependency (jpype).\n"
     ]
    }
   ],
   "source": [
    "import os\n",
    "import glob\n",
    "import numpy as np\n",
    "\n",
    "from pathlib import Path\n",
    "from aicsimageio import AICSImage, readers\n",
    "from blimp.preprocessing.illumination_correction import IlluminationCorrection\n",
    "\n",
    "data_dir = \"/srv/scratch/berrylab/z3532965/NikonSpinningDisk/ARMC5_KD_EU/240705_ARMC5_EU/Cycle1_IF/\"\n",
    "image_dir = os.path.join(data_dir,\"20240708_135644_856/OME-TIFF-MIP\")\n",
    "\n",
    "ana_dir = \"/srv/scratch/z3532965/src/publications/2024_ARMC5/hct116_EU\"\n",
    "illum_corr_file = \"/srv/scratch/berrylab/z3532965/NikonSpinningDisk/ARMC5_KD_EU/ILLUMCORR/illumination_correction_IF.pkl\""
   ]
  },
  {
   "cell_type": "markdown",
   "id": "bfe358de-9773-47a3-9b15-d4aa132be8ca",
   "metadata": {},
   "source": [
    "# Apply illumination correction\n",
    "\n",
    "Load illumination correction object"
   ]
  },
  {
   "cell_type": "code",
   "execution_count": 2,
   "id": "a02f70fc-410d-4ae0-ac71-b747176e453a",
   "metadata": {},
   "outputs": [],
   "source": [
    "illumination_correction = IlluminationCorrection(from_file=illum_corr_file)"
   ]
  },
  {
   "cell_type": "markdown",
   "id": "202abc78-94b9-47f3-a88a-39becaad130f",
   "metadata": {},
   "source": [
    "## Save examples for training nuclear segmentation model"
   ]
  },
  {
   "cell_type": "code",
   "execution_count": 3,
   "id": "49fb7c1e-df97-4dbf-a831-9403dd71ea22",
   "metadata": {},
   "outputs": [],
   "source": [
    "training_dir = Path(image_dir).parent / 'TRAINING'\n",
    "if not training_dir.exists(): \n",
    "    training_dir.mkdir()"
   ]
  },
  {
   "cell_type": "code",
   "execution_count": 4,
   "id": "b0f67126-dee3-4cbf-9207-37582b317a17",
   "metadata": {},
   "outputs": [],
   "source": [
    "example_image_files = glob.glob(str(Path(image_dir) / \"*003.ome.tiff\"))"
   ]
  },
  {
   "cell_type": "code",
   "execution_count": 5,
   "id": "f6ce64f8-b6c6-4a13-b7c0-758b3242f990",
   "metadata": {},
   "outputs": [],
   "source": [
    "for f in example_image_files[0:10]:\n",
    "    aics_image = AICSImage(Path(image_dir) / Path(f).name, reader=readers.ome_tiff_reader.OmeTiffReader)\n",
    "    aics_image_corrected = illumination_correction.correct(aics_image)\n",
    "    # save DAPI (C=1)\n",
    "    DAPI = AICSImage(aics_image_corrected.get_image_data('YX',Z=0,C=1,T=0))\n",
    "    DAPI.save(str(training_dir / Path(f).name))"
   ]
  },
  {
   "cell_type": "code",
   "execution_count": 6,
   "id": "0e1cb673-7d4b-468c-adca-a6f0015c8718",
   "metadata": {},
   "outputs": [
    {
     "data": {
      "text/plain": [
       "PosixPath('/srv/scratch/berrylab/z3532965/NikonSpinningDisk/ARMC5_KD_EU/240705_ARMC5_EU/Cycle1_IF/20240708_135644_856/TRAINING')"
      ]
     },
     "execution_count": 6,
     "metadata": {},
     "output_type": "execute_result"
    }
   ],
   "source": [
    "training_dir"
   ]
  },
  {
   "cell_type": "markdown",
   "id": "0fc0ab41-3eae-44d3-99ba-c444681c1ef3",
   "metadata": {
    "tags": []
   },
   "source": [
    "## Save examples for manual background measurements"
   ]
  },
  {
   "cell_type": "code",
   "execution_count": 7,
   "id": "9be5cc5e-e742-4507-90c9-3ebe7ac4fa94",
   "metadata": {},
   "outputs": [],
   "source": [
    "examples_dir = Path(image_dir).parent / 'EXAMPLES'\n",
    "if not examples_dir.exists(): \n",
    "    examples_dir.mkdir()"
   ]
  },
  {
   "cell_type": "code",
   "execution_count": 8,
   "id": "796e9a97-6aee-44db-98e8-53fe504f08de",
   "metadata": {},
   "outputs": [],
   "source": [
    "for f in example_image_files[1:4]:\n",
    "    aics_image = AICSImage(Path(image_dir) / Path(f).name, reader=readers.ome_tiff_reader.OmeTiffReader)\n",
    "    aics_image_corrected = illumination_correction.correct(aics_image)\n",
    "    aics_image_corrected.save(examples_dir / Path(f).name)"
   ]
  },
  {
   "cell_type": "code",
   "execution_count": 9,
   "id": "d221a4b7-d4be-4fb6-91ab-c6f9e387aec6",
   "metadata": {},
   "outputs": [
    {
     "data": {
      "text/plain": [
       "PosixPath('/srv/scratch/berrylab/z3532965/NikonSpinningDisk/ARMC5_KD_EU/240705_ARMC5_EU/Cycle1_IF/20240708_135644_856/EXAMPLES')"
      ]
     },
     "execution_count": 9,
     "metadata": {},
     "output_type": "execute_result"
    }
   ],
   "source": [
    "examples_dir"
   ]
  },
  {
   "cell_type": "code",
   "execution_count": null,
   "id": "f099c436-27fe-4a78-b18c-1d6a01ef70df",
   "metadata": {},
   "outputs": [],
   "source": []
  }
 ],
 "metadata": {
  "kernelspec": {
   "display_name": "berrylab-py310-jupyter",
   "language": "python",
   "name": "berrylab-py310-jupyter"
  },
  "language_info": {
   "codemirror_mode": {
    "name": "ipython",
    "version": 3
   },
   "file_extension": ".py",
   "mimetype": "text/x-python",
   "name": "python",
   "nbconvert_exporter": "python",
   "pygments_lexer": "ipython3",
   "version": "3.10.13"
  }
 },
 "nbformat": 4,
 "nbformat_minor": 5
}
