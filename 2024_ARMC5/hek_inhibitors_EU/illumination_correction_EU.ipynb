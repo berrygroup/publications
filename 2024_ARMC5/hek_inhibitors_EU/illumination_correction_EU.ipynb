{
 "cells": [
  {
   "cell_type": "code",
   "execution_count": 1,
   "id": "f08af4ae-f48f-40c4-a431-0fdcf31b1f4a",
   "metadata": {},
   "outputs": [
    {
     "name": "stderr",
     "output_type": "stream",
     "text": [
      "27-Jun-24 13:11:38 - bfio.backends - WARNING  - Java backend is not available. This could be due to a missing dependency (jpype).\n"
     ]
    }
   ],
   "source": [
    "import numpy as np\n",
    "import glob\n",
    "import re\n",
    "\n",
    "from aicsimageio import AICSImage, readers\n",
    "from pathlib import Path\n",
    "from matplotlib import pyplot as plt\n",
    "\n",
    "from blimp.preprocessing.illumination_correction import IlluminationCorrection"
   ]
  },
  {
   "cell_type": "markdown",
   "id": "bbe78d30-461a-42d6-9f1a-e54399e6e45c",
   "metadata": {},
   "source": [
    "# Correct illumination\n",
    "\n",
    "Search images of the correct channel in the input directories"
   ]
  },
  {
   "cell_type": "code",
   "execution_count": 2,
   "id": "72412090-e334-42db-b698-c0e049b96414",
   "metadata": {},
   "outputs": [],
   "source": [
    "images_dir_1 = Path(\"/srv/scratch/berrylab/z3532965/NikonSpinningDisk/240304/240301_ARMC5KO_EU/20240304_180009_911/OME-TIFF-MIP/\")\n",
    "images_dir_2 = Path(\"/srv/scratch/berrylab/z3532965/NikonSpinningDisk/240307/240304_ARMC5KO_EU/20240307_184329_444/OME-TIFF-MIP/\")\n",
    "images_dir_3 = Path(\"/srv/scratch/berrylab/z3532965/NikonSpinningDisk/240229/240226_ARMC5KO_EU/20240229_172045_717/OME-TIFF-MIP/\")\n",
    "image_files_1 = glob.glob(str(images_dir_1 / \"*.tiff\"))\n",
    "image_files_2 = glob.glob(str(images_dir_2 / \"*.tiff\"))\n",
    "image_files_3 = glob.glob(str(images_dir_3 / \"*.tiff\"))"
   ]
  },
  {
   "cell_type": "markdown",
   "id": "2d90f03e-fd87-46a5-a29c-ca6562a9aae6",
   "metadata": {},
   "source": [
    "Bright dust in images can be detrimental for calculation of a standard deviation for illumination correction. We check that all images are within the same intensity range"
   ]
  },
  {
   "cell_type": "code",
   "execution_count": 3,
   "id": "87cc78ca-2e55-4dc3-92f6-0a0e0cb952ea",
   "metadata": {
    "tags": []
   },
   "outputs": [],
   "source": [
    "def find_outlier_indices(image_files):\n",
    "    n_channels = AICSImage(image_files[0],reader=readers.ome_tiff_reader.OmeTiffReader).dims.C\n",
    "    image_std = np.stack(\n",
    "        [[np.std(a=AICSImage(image_file,reader=readers.ome_tiff_reader.OmeTiffReader).get_image_data('YX',C=c)) for c in range(n_channels)] for image_file in image_files]\n",
    "    )\n",
    "    image_std_p25 = np.percentile(image_std,25,axis=0)\n",
    "    image_std_p75 = np.percentile(image_std,75,axis=0)\n",
    "    image_std_iqr = image_std_p75 - image_std_p25\n",
    "    upper_limit = image_std_p75 + 1.5*image_std_iqr\n",
    "    outlier = image_std > upper_limit\n",
    "    outlier_indices = np.argwhere(outlier[:,0:2])[:,0]\n",
    "    return outlier_indices, image_std"
   ]
  },
  {
   "cell_type": "code",
   "execution_count": 4,
   "id": "5ec4597c-7eb1-4c3d-a97d-477ab1062203",
   "metadata": {
    "scrolled": true
   },
   "outputs": [
    {
     "name": "stdout",
     "output_type": "stream",
     "text": [
      "CPU times: user 15min 42s, sys: 1min 45s, total: 17min 27s\n",
      "Wall time: 23min 24s\n"
     ]
    }
   ],
   "source": [
    "%%time\n",
    "outlier_indices_1, image_std_1 = find_outlier_indices(image_files_1)\n",
    "reference_image_files_1 = np.delete(image_files_1,outlier_indices_1)"
   ]
  },
  {
   "cell_type": "code",
   "execution_count": 5,
   "id": "69659226-8732-4e1b-a80f-c8214d8af114",
   "metadata": {
    "scrolled": true
   },
   "outputs": [
    {
     "name": "stdout",
     "output_type": "stream",
     "text": [
      "CPU times: user 27min 46s, sys: 3min 7s, total: 30min 53s\n",
      "Wall time: 38min 20s\n"
     ]
    }
   ],
   "source": [
    "%%time\n",
    "outlier_indices_2, image_std_2 = find_outlier_indices(image_files_2)\n",
    "reference_image_files_2 = np.delete(image_files_2,outlier_indices_2)"
   ]
  },
  {
   "cell_type": "code",
   "execution_count": 6,
   "id": "f746a2f1-08a0-4425-b233-a7f005b79090",
   "metadata": {
    "scrolled": true
   },
   "outputs": [
    {
     "name": "stdout",
     "output_type": "stream",
     "text": [
      "CPU times: user 14min 49s, sys: 1min 45s, total: 16min 34s\n",
      "Wall time: 18min 8s\n"
     ]
    }
   ],
   "source": [
    "%%time\n",
    "outlier_indices_3, image_std_3 = find_outlier_indices(image_files_3)\n",
    "reference_image_files_3 = np.delete(image_files_3,outlier_indices_3)"
   ]
  },
  {
   "cell_type": "code",
   "execution_count": 7,
   "id": "cd45f0fc-96ac-46f0-be85-3050d65cb504",
   "metadata": {},
   "outputs": [],
   "source": [
    "image_files = image_files_1 + image_files_2 + image_files_3\n",
    "reference_image_files = reference_image_files_1.tolist() + reference_image_files_2.tolist() + reference_image_files_3.tolist()"
   ]
  },
  {
   "cell_type": "code",
   "execution_count": 8,
   "id": "8c4f2e08-2357-4b78-8b81-0a99034bd3e1",
   "metadata": {},
   "outputs": [
    {
     "data": {
      "text/plain": [
       "3840"
      ]
     },
     "execution_count": 8,
     "metadata": {},
     "output_type": "execute_result"
    }
   ],
   "source": [
    "len(image_files)"
   ]
  },
  {
   "cell_type": "code",
   "execution_count": 9,
   "id": "39940425-4133-430c-a9b1-83fc6ebe3e44",
   "metadata": {},
   "outputs": [
    {
     "data": {
      "text/plain": [
       "3465"
      ]
     },
     "execution_count": 9,
     "metadata": {},
     "output_type": "execute_result"
    }
   ],
   "source": [
    "len(reference_image_files)"
   ]
  },
  {
   "cell_type": "markdown",
   "id": "b06c202e-7ca0-4004-9ee1-44e6718ca518",
   "metadata": {},
   "source": [
    "Fit a ``blimp.IlluminationCorrection`` object"
   ]
  },
  {
   "cell_type": "code",
   "execution_count": null,
   "id": "d5de81b0-6f8c-4fa8-970c-317d1cc7bebc",
   "metadata": {},
   "outputs": [],
   "source": [
    "illumination_correction = IlluminationCorrection(\n",
    "    reference_images=reference_image_files,\n",
    "    timelapse=False,\n",
    ")\n",
    "illumination_correction.plot()"
   ]
  },
  {
   "cell_type": "markdown",
   "id": "d81307da-d23b-4dc8-87c4-b515e4c1d974",
   "metadata": {},
   "source": [
    "# Save illumination correction object to disk\n",
    "\n",
    "The ``blimp.IlluminationCorrection`` object can be persisted on disk to be later applied when analysing images"
   ]
  },
  {
   "cell_type": "code",
   "execution_count": null,
   "id": "39293aa6-47bf-4ea2-9f9e-fc65579f0c0d",
   "metadata": {},
   "outputs": [],
   "source": [
    "illumcorr_filename = \"/srv/scratch/berrylab/z3532965/NikonSpinningDisk/240304/ILLUMCORR/illumination_correction.pkl\""
   ]
  },
  {
   "cell_type": "code",
   "execution_count": null,
   "id": "046ce9d5-3549-4ef7-a176-73e3f808bc2d",
   "metadata": {},
   "outputs": [],
   "source": [
    "illumination_correction.save(Path(illumcorr_filename))"
   ]
  },
  {
   "cell_type": "markdown",
   "id": "554e8f12-63ae-4106-a4b4-28995cb8a00c",
   "metadata": {},
   "source": [
    "# Check results\n",
    "\n",
    "IlluminationCorrection can be applied using the ``correct()`` method of the ``blimp.IlluminationCorrection`` object"
   ]
  },
  {
   "cell_type": "code",
   "execution_count": null,
   "id": "0cc613cf-4734-4afd-997d-00e4bd44f348",
   "metadata": {},
   "outputs": [],
   "source": [
    "illumination_correction = IlluminationCorrection(from_file=illumcorr_filename)"
   ]
  },
  {
   "cell_type": "code",
   "execution_count": null,
   "id": "5906ed19-9bf8-4a60-98fb-882979f04177",
   "metadata": {},
   "outputs": [],
   "source": [
    "illumination_correction.plot()"
   ]
  },
  {
   "cell_type": "code",
   "execution_count": null,
   "id": "f02956ae-e645-4114-94c0-5b576a16fbc1",
   "metadata": {},
   "outputs": [],
   "source": [
    "raw = AICSImage(image_files[705], reader=readers.ome_tiff_reader.OmeTiffReader)\n",
    "corrected = illumination_correction.correct(raw)"
   ]
  },
  {
   "cell_type": "code",
   "execution_count": null,
   "id": "16ab2c37-0d62-414c-a6fd-5e79be28299b",
   "metadata": {},
   "outputs": [],
   "source": [
    "illumination_correction.mean_mean_image"
   ]
  },
  {
   "cell_type": "code",
   "execution_count": null,
   "id": "2fc4b683-c66f-41f9-ba92-b9c3b16334fa",
   "metadata": {},
   "outputs": [],
   "source": [
    "fig, axes = plt.subplots(1, 2, figsize=(12, 6))\n",
    "im = axes[0].imshow(raw.get_image_data('YX',C=0,T=0), vmin=0, vmax=1000)\n",
    "fig.colorbar(im, ax=axes[0])\n",
    "axes[0].set_title(\"Original\")\n",
    "im = axes[1].imshow(corrected.get_image_data('YX',C=0,T=0), vmin=0, vmax=1000)\n",
    "fig.colorbar(im, ax=axes[1])\n",
    "axes[1].set_title(\"Corrected\")\n",
    "fig.tight_layout()"
   ]
  },
  {
   "cell_type": "markdown",
   "id": "fc87294a-823a-4c99-8213-7e116aca8b77",
   "metadata": {},
   "source": [
    "Will have to crop part of these images (from say 500: on the X-axis)"
   ]
  }
 ],
 "metadata": {
  "kernelspec": {
   "display_name": "berrylab-py310-jupyter",
   "language": "python",
   "name": "berrylab-py310-jupyter"
  },
  "language_info": {
   "codemirror_mode": {
    "name": "ipython",
    "version": 3
   },
   "file_extension": ".py",
   "mimetype": "text/x-python",
   "name": "python",
   "nbconvert_exporter": "python",
   "pygments_lexer": "ipython3",
   "version": "3.10.13"
  }
 },
 "nbformat": 4,
 "nbformat_minor": 5
}
