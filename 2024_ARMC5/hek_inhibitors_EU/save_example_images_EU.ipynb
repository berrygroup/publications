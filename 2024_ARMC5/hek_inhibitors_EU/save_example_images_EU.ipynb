{
 "cells": [
  {
   "cell_type": "code",
   "execution_count": 1,
   "id": "c638dac0-eab7-43c0-8278-c73d2e64d186",
   "metadata": {},
   "outputs": [
    {
     "name": "stderr",
     "output_type": "stream",
     "text": [
      "27-Jun-24 13:12:28 - bfio.backends - WARNING  - Java backend is not available. This could be due to a missing dependency (jpype).\n"
     ]
    }
   ],
   "source": [
    "import os\n",
    "import glob\n",
    "import napari\n",
    "import pandas as pd\n",
    "import numpy as np\n",
    "\n",
    "from pathlib import Path\n",
    "from aicsimageio import AICSImage, readers\n",
    "\n",
    "from blimp.preprocessing.illumination_correction import IlluminationCorrection\n",
    "\n",
    "data_dir = \"/srv/scratch/berrylab/z3532965/NikonSpinningDisk/240304/240301_ARMC5KO_EU\"\n",
    "image_dir = os.path.join(data_dir,\"20240304_180009_911/OME-TIFF-MIP\")\n",
    "\n",
    "ana_dir = \"/srv/scratch/z3532965/src/publications/2024_ARMC5/hek_inhibitors_EU/\"\n",
    "illum_corr_file = os.path.join(data_dir,\"/srv/scratch/berrylab/z3532965/NikonSpinningDisk/240304/ILLUMCORR/illumination_correction.pkl\")"
   ]
  },
  {
   "cell_type": "markdown",
   "id": "bfe358de-9773-47a3-9b15-d4aa132be8ca",
   "metadata": {},
   "source": [
    "# Apply illumination correction\n",
    "\n",
    "Load illumination correction object"
   ]
  },
  {
   "cell_type": "code",
   "execution_count": 2,
   "id": "a02f70fc-410d-4ae0-ac71-b747176e453a",
   "metadata": {},
   "outputs": [],
   "source": [
    "illumination_correction = IlluminationCorrection(from_file=illum_corr_file)"
   ]
  },
  {
   "cell_type": "markdown",
   "id": "202abc78-94b9-47f3-a88a-39becaad130f",
   "metadata": {},
   "source": [
    "## Save examples for training nuclear segmentation model"
   ]
  },
  {
   "cell_type": "code",
   "execution_count": 3,
   "id": "49fb7c1e-df97-4dbf-a831-9403dd71ea22",
   "metadata": {},
   "outputs": [],
   "source": [
    "training_dir = Path(image_dir).parent / 'TRAINING'\n",
    "if not training_dir.exists(): \n",
    "    training_dir.mkdir()"
   ]
  },
  {
   "cell_type": "code",
   "execution_count": 4,
   "id": "b0f67126-dee3-4cbf-9207-37582b317a17",
   "metadata": {},
   "outputs": [],
   "source": [
    "example_image_files = glob.glob(str(Path(image_dir) / \"*001.ome.tiff\"))\n",
    "example_image_files.sort()"
   ]
  },
  {
   "cell_type": "code",
   "execution_count": 5,
   "id": "f6ce64f8-b6c6-4a13-b7c0-758b3242f990",
   "metadata": {},
   "outputs": [],
   "source": [
    "for f in example_image_files[1:10]:\n",
    "    aics_image = AICSImage(Path(image_dir) / Path(f).name, reader=readers.ome_tiff_reader.OmeTiffReader)\n",
    "    aics_image_corrected = illumination_correction.correct(aics_image)\n",
    "    # crop 500 pixels from left edge and save DAPI (C=1)\n",
    "    DAPI = AICSImage(aics_image_corrected.get_image_data('YX',Z=0,C=1,T=0)[np.newaxis,np.newaxis,np.newaxis,:,500:])\n",
    "    DAPI.save(str(training_dir / Path(f).name))"
   ]
  },
  {
   "cell_type": "code",
   "execution_count": 6,
   "id": "f9a49bc2-9d7c-47de-892a-663a37b4b853",
   "metadata": {},
   "outputs": [
    {
     "data": {
      "text/plain": [
       "['/srv/scratch/berrylab/z3532965/NikonSpinningDisk/240304/240301_ARMC5KO_EU/20240304_180009_911/OME-TIFF-MIP/WellC03_ChannelMono,Mono,Mono,488_Seq0000_0001.ome.tiff',\n",
       " '/srv/scratch/berrylab/z3532965/NikonSpinningDisk/240304/240301_ARMC5KO_EU/20240304_180009_911/OME-TIFF-MIP/WellC04_ChannelMono,Mono,Mono,488_Seq0001_0001.ome.tiff',\n",
       " '/srv/scratch/berrylab/z3532965/NikonSpinningDisk/240304/240301_ARMC5KO_EU/20240304_180009_911/OME-TIFF-MIP/WellC05_ChannelMono,Mono,Mono,488_Seq0002_0001.ome.tiff',\n",
       " '/srv/scratch/berrylab/z3532965/NikonSpinningDisk/240304/240301_ARMC5KO_EU/20240304_180009_911/OME-TIFF-MIP/WellC06_ChannelMono,Mono,Mono,488_Seq0003_0001.ome.tiff',\n",
       " '/srv/scratch/berrylab/z3532965/NikonSpinningDisk/240304/240301_ARMC5KO_EU/20240304_180009_911/OME-TIFF-MIP/WellC07_ChannelMono,Mono,Mono,488_Seq0004_0001.ome.tiff',\n",
       " '/srv/scratch/berrylab/z3532965/NikonSpinningDisk/240304/240301_ARMC5KO_EU/20240304_180009_911/OME-TIFF-MIP/WellC08_ChannelMono,Mono,Mono,488_Seq0005_0001.ome.tiff',\n",
       " '/srv/scratch/berrylab/z3532965/NikonSpinningDisk/240304/240301_ARMC5KO_EU/20240304_180009_911/OME-TIFF-MIP/WellC09_ChannelMono,Mono,Mono,488_Seq0006_0001.ome.tiff',\n",
       " '/srv/scratch/berrylab/z3532965/NikonSpinningDisk/240304/240301_ARMC5KO_EU/20240304_180009_911/OME-TIFF-MIP/WellC10_ChannelMono,Mono,Mono,488_Seq0007_0001.ome.tiff',\n",
       " '/srv/scratch/berrylab/z3532965/NikonSpinningDisk/240304/240301_ARMC5KO_EU/20240304_180009_911/OME-TIFF-MIP/WellC11_ChannelMono,Mono,Mono,488_Seq0008_0001.ome.tiff',\n",
       " '/srv/scratch/berrylab/z3532965/NikonSpinningDisk/240304/240301_ARMC5KO_EU/20240304_180009_911/OME-TIFF-MIP/WellC12_ChannelMono,Mono,Mono,488_Seq0009_0001.ome.tiff',\n",
       " '/srv/scratch/berrylab/z3532965/NikonSpinningDisk/240304/240301_ARMC5KO_EU/20240304_180009_911/OME-TIFF-MIP/WellC13_ChannelMono,Mono,Mono,488_Seq0010_0001.ome.tiff',\n",
       " '/srv/scratch/berrylab/z3532965/NikonSpinningDisk/240304/240301_ARMC5KO_EU/20240304_180009_911/OME-TIFF-MIP/WellC14_ChannelMono,Mono,Mono,488_Seq0011_0001.ome.tiff',\n",
       " '/srv/scratch/berrylab/z3532965/NikonSpinningDisk/240304/240301_ARMC5KO_EU/20240304_180009_911/OME-TIFF-MIP/WellD03_ChannelMono,Mono,Mono,488_Seq0023_0001.ome.tiff',\n",
       " '/srv/scratch/berrylab/z3532965/NikonSpinningDisk/240304/240301_ARMC5KO_EU/20240304_180009_911/OME-TIFF-MIP/WellD04_ChannelMono,Mono,Mono,488_Seq0022_0001.ome.tiff',\n",
       " '/srv/scratch/berrylab/z3532965/NikonSpinningDisk/240304/240301_ARMC5KO_EU/20240304_180009_911/OME-TIFF-MIP/WellD05_ChannelMono,Mono,Mono,488_Seq0021_0001.ome.tiff',\n",
       " '/srv/scratch/berrylab/z3532965/NikonSpinningDisk/240304/240301_ARMC5KO_EU/20240304_180009_911/OME-TIFF-MIP/WellD06_ChannelMono,Mono,Mono,488_Seq0020_0001.ome.tiff',\n",
       " '/srv/scratch/berrylab/z3532965/NikonSpinningDisk/240304/240301_ARMC5KO_EU/20240304_180009_911/OME-TIFF-MIP/WellD07_ChannelMono,Mono,Mono,488_Seq0019_0001.ome.tiff',\n",
       " '/srv/scratch/berrylab/z3532965/NikonSpinningDisk/240304/240301_ARMC5KO_EU/20240304_180009_911/OME-TIFF-MIP/WellD08_ChannelMono,Mono,Mono,488_Seq0018_0001.ome.tiff',\n",
       " '/srv/scratch/berrylab/z3532965/NikonSpinningDisk/240304/240301_ARMC5KO_EU/20240304_180009_911/OME-TIFF-MIP/WellD09_ChannelMono,Mono,Mono,488_Seq0017_0001.ome.tiff',\n",
       " '/srv/scratch/berrylab/z3532965/NikonSpinningDisk/240304/240301_ARMC5KO_EU/20240304_180009_911/OME-TIFF-MIP/WellD10_ChannelMono,Mono,Mono,488_Seq0016_0001.ome.tiff',\n",
       " '/srv/scratch/berrylab/z3532965/NikonSpinningDisk/240304/240301_ARMC5KO_EU/20240304_180009_911/OME-TIFF-MIP/WellD11_ChannelMono,Mono,Mono,488_Seq0015_0001.ome.tiff',\n",
       " '/srv/scratch/berrylab/z3532965/NikonSpinningDisk/240304/240301_ARMC5KO_EU/20240304_180009_911/OME-TIFF-MIP/WellD12_ChannelMono,Mono,Mono,488_Seq0014_0001.ome.tiff',\n",
       " '/srv/scratch/berrylab/z3532965/NikonSpinningDisk/240304/240301_ARMC5KO_EU/20240304_180009_911/OME-TIFF-MIP/WellD13_ChannelMono,Mono,Mono,488_Seq0013_0001.ome.tiff',\n",
       " '/srv/scratch/berrylab/z3532965/NikonSpinningDisk/240304/240301_ARMC5KO_EU/20240304_180009_911/OME-TIFF-MIP/WellD14_ChannelMono,Mono,Mono,488_Seq0012_0001.ome.tiff',\n",
       " '/srv/scratch/berrylab/z3532965/NikonSpinningDisk/240304/240301_ARMC5KO_EU/20240304_180009_911/OME-TIFF-MIP/WellE03_ChannelMono,Mono,Mono,488_Seq0024_0001.ome.tiff',\n",
       " '/srv/scratch/berrylab/z3532965/NikonSpinningDisk/240304/240301_ARMC5KO_EU/20240304_180009_911/OME-TIFF-MIP/WellE04_ChannelMono,Mono,Mono,488_Seq0025_0001.ome.tiff',\n",
       " '/srv/scratch/berrylab/z3532965/NikonSpinningDisk/240304/240301_ARMC5KO_EU/20240304_180009_911/OME-TIFF-MIP/WellE05_ChannelMono,Mono,Mono,488_Seq0026_0001.ome.tiff',\n",
       " '/srv/scratch/berrylab/z3532965/NikonSpinningDisk/240304/240301_ARMC5KO_EU/20240304_180009_911/OME-TIFF-MIP/WellE06_ChannelMono,Mono,Mono,488_Seq0027_0001.ome.tiff',\n",
       " '/srv/scratch/berrylab/z3532965/NikonSpinningDisk/240304/240301_ARMC5KO_EU/20240304_180009_911/OME-TIFF-MIP/WellE07_ChannelMono,Mono,Mono,488_Seq0028_0001.ome.tiff',\n",
       " '/srv/scratch/berrylab/z3532965/NikonSpinningDisk/240304/240301_ARMC5KO_EU/20240304_180009_911/OME-TIFF-MIP/WellE08_ChannelMono,Mono,Mono,488_Seq0029_0001.ome.tiff',\n",
       " '/srv/scratch/berrylab/z3532965/NikonSpinningDisk/240304/240301_ARMC5KO_EU/20240304_180009_911/OME-TIFF-MIP/WellE09_ChannelMono,Mono,Mono,488_Seq0030_0001.ome.tiff',\n",
       " '/srv/scratch/berrylab/z3532965/NikonSpinningDisk/240304/240301_ARMC5KO_EU/20240304_180009_911/OME-TIFF-MIP/WellE10_ChannelMono,Mono,Mono,488_Seq0031_0001.ome.tiff',\n",
       " '/srv/scratch/berrylab/z3532965/NikonSpinningDisk/240304/240301_ARMC5KO_EU/20240304_180009_911/OME-TIFF-MIP/WellE11_ChannelMono,Mono,Mono,488_Seq0032_0001.ome.tiff',\n",
       " '/srv/scratch/berrylab/z3532965/NikonSpinningDisk/240304/240301_ARMC5KO_EU/20240304_180009_911/OME-TIFF-MIP/WellE12_ChannelMono,Mono,Mono,488_Seq0033_0001.ome.tiff',\n",
       " '/srv/scratch/berrylab/z3532965/NikonSpinningDisk/240304/240301_ARMC5KO_EU/20240304_180009_911/OME-TIFF-MIP/WellE13_ChannelMono,Mono,Mono,488_Seq0034_0001.ome.tiff',\n",
       " '/srv/scratch/berrylab/z3532965/NikonSpinningDisk/240304/240301_ARMC5KO_EU/20240304_180009_911/OME-TIFF-MIP/WellE14_ChannelMono,Mono,Mono,488_Seq0035_0001.ome.tiff',\n",
       " '/srv/scratch/berrylab/z3532965/NikonSpinningDisk/240304/240301_ARMC5KO_EU/20240304_180009_911/OME-TIFF-MIP/WellF03_ChannelMono,Mono,Mono,488_Seq0047_0001.ome.tiff',\n",
       " '/srv/scratch/berrylab/z3532965/NikonSpinningDisk/240304/240301_ARMC5KO_EU/20240304_180009_911/OME-TIFF-MIP/WellF04_ChannelMono,Mono,Mono,488_Seq0046_0001.ome.tiff',\n",
       " '/srv/scratch/berrylab/z3532965/NikonSpinningDisk/240304/240301_ARMC5KO_EU/20240304_180009_911/OME-TIFF-MIP/WellF05_ChannelMono,Mono,Mono,488_Seq0045_0001.ome.tiff',\n",
       " '/srv/scratch/berrylab/z3532965/NikonSpinningDisk/240304/240301_ARMC5KO_EU/20240304_180009_911/OME-TIFF-MIP/WellF06_ChannelMono,Mono,Mono,488_Seq0044_0001.ome.tiff',\n",
       " '/srv/scratch/berrylab/z3532965/NikonSpinningDisk/240304/240301_ARMC5KO_EU/20240304_180009_911/OME-TIFF-MIP/WellF07_ChannelMono,Mono,Mono,488_Seq0043_0001.ome.tiff',\n",
       " '/srv/scratch/berrylab/z3532965/NikonSpinningDisk/240304/240301_ARMC5KO_EU/20240304_180009_911/OME-TIFF-MIP/WellF08_ChannelMono,Mono,Mono,488_Seq0042_0001.ome.tiff',\n",
       " '/srv/scratch/berrylab/z3532965/NikonSpinningDisk/240304/240301_ARMC5KO_EU/20240304_180009_911/OME-TIFF-MIP/WellF09_ChannelMono,Mono,Mono,488_Seq0041_0001.ome.tiff',\n",
       " '/srv/scratch/berrylab/z3532965/NikonSpinningDisk/240304/240301_ARMC5KO_EU/20240304_180009_911/OME-TIFF-MIP/WellF10_ChannelMono,Mono,Mono,488_Seq0040_0001.ome.tiff',\n",
       " '/srv/scratch/berrylab/z3532965/NikonSpinningDisk/240304/240301_ARMC5KO_EU/20240304_180009_911/OME-TIFF-MIP/WellF11_ChannelMono,Mono,Mono,488_Seq0039_0001.ome.tiff',\n",
       " '/srv/scratch/berrylab/z3532965/NikonSpinningDisk/240304/240301_ARMC5KO_EU/20240304_180009_911/OME-TIFF-MIP/WellF12_ChannelMono,Mono,Mono,488_Seq0038_0001.ome.tiff',\n",
       " '/srv/scratch/berrylab/z3532965/NikonSpinningDisk/240304/240301_ARMC5KO_EU/20240304_180009_911/OME-TIFF-MIP/WellF13_ChannelMono,Mono,Mono,488_Seq0037_0001.ome.tiff',\n",
       " '/srv/scratch/berrylab/z3532965/NikonSpinningDisk/240304/240301_ARMC5KO_EU/20240304_180009_911/OME-TIFF-MIP/WellF14_ChannelMono,Mono,Mono,488_Seq0036_0001.ome.tiff',\n",
       " '/srv/scratch/berrylab/z3532965/NikonSpinningDisk/240304/240301_ARMC5KO_EU/20240304_180009_911/OME-TIFF-MIP/WellG03_ChannelMono,Mono,Mono,488_Seq0048_0001.ome.tiff',\n",
       " '/srv/scratch/berrylab/z3532965/NikonSpinningDisk/240304/240301_ARMC5KO_EU/20240304_180009_911/OME-TIFF-MIP/WellG04_ChannelMono,Mono,Mono,488_Seq0049_0001.ome.tiff',\n",
       " '/srv/scratch/berrylab/z3532965/NikonSpinningDisk/240304/240301_ARMC5KO_EU/20240304_180009_911/OME-TIFF-MIP/WellG05_ChannelMono,Mono,Mono,488_Seq0050_0001.ome.tiff',\n",
       " '/srv/scratch/berrylab/z3532965/NikonSpinningDisk/240304/240301_ARMC5KO_EU/20240304_180009_911/OME-TIFF-MIP/WellG06_ChannelMono,Mono,Mono,488_Seq0051_0001.ome.tiff',\n",
       " '/srv/scratch/berrylab/z3532965/NikonSpinningDisk/240304/240301_ARMC5KO_EU/20240304_180009_911/OME-TIFF-MIP/WellG07_ChannelMono,Mono,Mono,488_Seq0052_0001.ome.tiff',\n",
       " '/srv/scratch/berrylab/z3532965/NikonSpinningDisk/240304/240301_ARMC5KO_EU/20240304_180009_911/OME-TIFF-MIP/WellG08_ChannelMono,Mono,Mono,488_Seq0053_0001.ome.tiff',\n",
       " '/srv/scratch/berrylab/z3532965/NikonSpinningDisk/240304/240301_ARMC5KO_EU/20240304_180009_911/OME-TIFF-MIP/WellG09_ChannelMono,Mono,Mono,488_Seq0054_0001.ome.tiff',\n",
       " '/srv/scratch/berrylab/z3532965/NikonSpinningDisk/240304/240301_ARMC5KO_EU/20240304_180009_911/OME-TIFF-MIP/WellG10_ChannelMono,Mono,Mono,488_Seq0055_0001.ome.tiff',\n",
       " '/srv/scratch/berrylab/z3532965/NikonSpinningDisk/240304/240301_ARMC5KO_EU/20240304_180009_911/OME-TIFF-MIP/WellG11_ChannelMono,Mono,Mono,488_Seq0056_0001.ome.tiff',\n",
       " '/srv/scratch/berrylab/z3532965/NikonSpinningDisk/240304/240301_ARMC5KO_EU/20240304_180009_911/OME-TIFF-MIP/WellG12_ChannelMono,Mono,Mono,488_Seq0057_0001.ome.tiff',\n",
       " '/srv/scratch/berrylab/z3532965/NikonSpinningDisk/240304/240301_ARMC5KO_EU/20240304_180009_911/OME-TIFF-MIP/WellG13_ChannelMono,Mono,Mono,488_Seq0058_0001.ome.tiff',\n",
       " '/srv/scratch/berrylab/z3532965/NikonSpinningDisk/240304/240301_ARMC5KO_EU/20240304_180009_911/OME-TIFF-MIP/WellG14_ChannelMono,Mono,Mono,488_Seq0059_0001.ome.tiff',\n",
       " '/srv/scratch/berrylab/z3532965/NikonSpinningDisk/240304/240301_ARMC5KO_EU/20240304_180009_911/OME-TIFF-MIP/WellH03_ChannelMono,Mono,Mono,488_Seq0071_0001.ome.tiff',\n",
       " '/srv/scratch/berrylab/z3532965/NikonSpinningDisk/240304/240301_ARMC5KO_EU/20240304_180009_911/OME-TIFF-MIP/WellH04_ChannelMono,Mono,Mono,488_Seq0070_0001.ome.tiff',\n",
       " '/srv/scratch/berrylab/z3532965/NikonSpinningDisk/240304/240301_ARMC5KO_EU/20240304_180009_911/OME-TIFF-MIP/WellH05_ChannelMono,Mono,Mono,488_Seq0069_0001.ome.tiff',\n",
       " '/srv/scratch/berrylab/z3532965/NikonSpinningDisk/240304/240301_ARMC5KO_EU/20240304_180009_911/OME-TIFF-MIP/WellH06_ChannelMono,Mono,Mono,488_Seq0068_0001.ome.tiff',\n",
       " '/srv/scratch/berrylab/z3532965/NikonSpinningDisk/240304/240301_ARMC5KO_EU/20240304_180009_911/OME-TIFF-MIP/WellH07_ChannelMono,Mono,Mono,488_Seq0067_0001.ome.tiff',\n",
       " '/srv/scratch/berrylab/z3532965/NikonSpinningDisk/240304/240301_ARMC5KO_EU/20240304_180009_911/OME-TIFF-MIP/WellH08_ChannelMono,Mono,Mono,488_Seq0066_0001.ome.tiff',\n",
       " '/srv/scratch/berrylab/z3532965/NikonSpinningDisk/240304/240301_ARMC5KO_EU/20240304_180009_911/OME-TIFF-MIP/WellH09_ChannelMono,Mono,Mono,488_Seq0065_0001.ome.tiff',\n",
       " '/srv/scratch/berrylab/z3532965/NikonSpinningDisk/240304/240301_ARMC5KO_EU/20240304_180009_911/OME-TIFF-MIP/WellH10_ChannelMono,Mono,Mono,488_Seq0064_0001.ome.tiff',\n",
       " '/srv/scratch/berrylab/z3532965/NikonSpinningDisk/240304/240301_ARMC5KO_EU/20240304_180009_911/OME-TIFF-MIP/WellH11_ChannelMono,Mono,Mono,488_Seq0063_0001.ome.tiff',\n",
       " '/srv/scratch/berrylab/z3532965/NikonSpinningDisk/240304/240301_ARMC5KO_EU/20240304_180009_911/OME-TIFF-MIP/WellH12_ChannelMono,Mono,Mono,488_Seq0062_0001.ome.tiff',\n",
       " '/srv/scratch/berrylab/z3532965/NikonSpinningDisk/240304/240301_ARMC5KO_EU/20240304_180009_911/OME-TIFF-MIP/WellH13_ChannelMono,Mono,Mono,488_Seq0061_0001.ome.tiff',\n",
       " '/srv/scratch/berrylab/z3532965/NikonSpinningDisk/240304/240301_ARMC5KO_EU/20240304_180009_911/OME-TIFF-MIP/WellH14_ChannelMono,Mono,Mono,488_Seq0060_0001.ome.tiff',\n",
       " '/srv/scratch/berrylab/z3532965/NikonSpinningDisk/240304/240301_ARMC5KO_EU/20240304_180009_911/OME-TIFF-MIP/WellI03_ChannelMono,Mono,Mono,488_Seq0072_0001.ome.tiff',\n",
       " '/srv/scratch/berrylab/z3532965/NikonSpinningDisk/240304/240301_ARMC5KO_EU/20240304_180009_911/OME-TIFF-MIP/WellI04_ChannelMono,Mono,Mono,488_Seq0073_0001.ome.tiff',\n",
       " '/srv/scratch/berrylab/z3532965/NikonSpinningDisk/240304/240301_ARMC5KO_EU/20240304_180009_911/OME-TIFF-MIP/WellI05_ChannelMono,Mono,Mono,488_Seq0074_0001.ome.tiff',\n",
       " '/srv/scratch/berrylab/z3532965/NikonSpinningDisk/240304/240301_ARMC5KO_EU/20240304_180009_911/OME-TIFF-MIP/WellI06_ChannelMono,Mono,Mono,488_Seq0075_0001.ome.tiff',\n",
       " '/srv/scratch/berrylab/z3532965/NikonSpinningDisk/240304/240301_ARMC5KO_EU/20240304_180009_911/OME-TIFF-MIP/WellI07_ChannelMono,Mono,Mono,488_Seq0076_0001.ome.tiff',\n",
       " '/srv/scratch/berrylab/z3532965/NikonSpinningDisk/240304/240301_ARMC5KO_EU/20240304_180009_911/OME-TIFF-MIP/WellI08_ChannelMono,Mono,Mono,488_Seq0077_0001.ome.tiff',\n",
       " '/srv/scratch/berrylab/z3532965/NikonSpinningDisk/240304/240301_ARMC5KO_EU/20240304_180009_911/OME-TIFF-MIP/WellI09_ChannelMono,Mono,Mono,488_Seq0078_0001.ome.tiff',\n",
       " '/srv/scratch/berrylab/z3532965/NikonSpinningDisk/240304/240301_ARMC5KO_EU/20240304_180009_911/OME-TIFF-MIP/WellI10_ChannelMono,Mono,Mono,488_Seq0079_0001.ome.tiff',\n",
       " '/srv/scratch/berrylab/z3532965/NikonSpinningDisk/240304/240301_ARMC5KO_EU/20240304_180009_911/OME-TIFF-MIP/WellI11_ChannelMono,Mono,Mono,488_Seq0080_0001.ome.tiff',\n",
       " '/srv/scratch/berrylab/z3532965/NikonSpinningDisk/240304/240301_ARMC5KO_EU/20240304_180009_911/OME-TIFF-MIP/WellI12_ChannelMono,Mono,Mono,488_Seq0081_0001.ome.tiff',\n",
       " '/srv/scratch/berrylab/z3532965/NikonSpinningDisk/240304/240301_ARMC5KO_EU/20240304_180009_911/OME-TIFF-MIP/WellI13_ChannelMono,Mono,Mono,488_Seq0082_0001.ome.tiff',\n",
       " '/srv/scratch/berrylab/z3532965/NikonSpinningDisk/240304/240301_ARMC5KO_EU/20240304_180009_911/OME-TIFF-MIP/WellI14_ChannelMono,Mono,Mono,488_Seq0083_0001.ome.tiff',\n",
       " '/srv/scratch/berrylab/z3532965/NikonSpinningDisk/240304/240301_ARMC5KO_EU/20240304_180009_911/OME-TIFF-MIP/WellJ03_ChannelMono,Mono,Mono,488_Seq0089_0001.ome.tiff',\n",
       " '/srv/scratch/berrylab/z3532965/NikonSpinningDisk/240304/240301_ARMC5KO_EU/20240304_180009_911/OME-TIFF-MIP/WellJ04_ChannelMono,Mono,Mono,488_Seq0088_0001.ome.tiff',\n",
       " '/srv/scratch/berrylab/z3532965/NikonSpinningDisk/240304/240301_ARMC5KO_EU/20240304_180009_911/OME-TIFF-MIP/WellJ05_ChannelMono,Mono,Mono,488_Seq0087_0001.ome.tiff',\n",
       " '/srv/scratch/berrylab/z3532965/NikonSpinningDisk/240304/240301_ARMC5KO_EU/20240304_180009_911/OME-TIFF-MIP/WellJ06_ChannelMono,Mono,Mono,488_Seq0086_0001.ome.tiff',\n",
       " '/srv/scratch/berrylab/z3532965/NikonSpinningDisk/240304/240301_ARMC5KO_EU/20240304_180009_911/OME-TIFF-MIP/WellJ07_ChannelMono,Mono,Mono,488_Seq0085_0001.ome.tiff',\n",
       " '/srv/scratch/berrylab/z3532965/NikonSpinningDisk/240304/240301_ARMC5KO_EU/20240304_180009_911/OME-TIFF-MIP/WellJ08_ChannelMono,Mono,Mono,488_Seq0084_0001.ome.tiff',\n",
       " '/srv/scratch/berrylab/z3532965/NikonSpinningDisk/240304/240301_ARMC5KO_EU/20240304_180009_911/OME-TIFF-MIP/WellK03_ChannelMono,Mono,Mono,488_Seq0090_0001.ome.tiff',\n",
       " '/srv/scratch/berrylab/z3532965/NikonSpinningDisk/240304/240301_ARMC5KO_EU/20240304_180009_911/OME-TIFF-MIP/WellK04_ChannelMono,Mono,Mono,488_Seq0091_0001.ome.tiff',\n",
       " '/srv/scratch/berrylab/z3532965/NikonSpinningDisk/240304/240301_ARMC5KO_EU/20240304_180009_911/OME-TIFF-MIP/WellK05_ChannelMono,Mono,Mono,488_Seq0092_0001.ome.tiff',\n",
       " '/srv/scratch/berrylab/z3532965/NikonSpinningDisk/240304/240301_ARMC5KO_EU/20240304_180009_911/OME-TIFF-MIP/WellK06_ChannelMono,Mono,Mono,488_Seq0093_0001.ome.tiff',\n",
       " '/srv/scratch/berrylab/z3532965/NikonSpinningDisk/240304/240301_ARMC5KO_EU/20240304_180009_911/OME-TIFF-MIP/WellK07_ChannelMono,Mono,Mono,488_Seq0094_0001.ome.tiff',\n",
       " '/srv/scratch/berrylab/z3532965/NikonSpinningDisk/240304/240301_ARMC5KO_EU/20240304_180009_911/OME-TIFF-MIP/WellK08_ChannelMono,Mono,Mono,488_Seq0095_0001.ome.tiff',\n",
       " '/srv/scratch/berrylab/z3532965/NikonSpinningDisk/240304/240301_ARMC5KO_EU/20240304_180009_911/OME-TIFF-MIP/WellL03_ChannelMono,Mono,Mono,488_Seq0101_0001.ome.tiff',\n",
       " '/srv/scratch/berrylab/z3532965/NikonSpinningDisk/240304/240301_ARMC5KO_EU/20240304_180009_911/OME-TIFF-MIP/WellL04_ChannelMono,Mono,Mono,488_Seq0100_0001.ome.tiff',\n",
       " '/srv/scratch/berrylab/z3532965/NikonSpinningDisk/240304/240301_ARMC5KO_EU/20240304_180009_911/OME-TIFF-MIP/WellL05_ChannelMono,Mono,Mono,488_Seq0099_0001.ome.tiff',\n",
       " '/srv/scratch/berrylab/z3532965/NikonSpinningDisk/240304/240301_ARMC5KO_EU/20240304_180009_911/OME-TIFF-MIP/WellL06_ChannelMono,Mono,Mono,488_Seq0098_0001.ome.tiff',\n",
       " '/srv/scratch/berrylab/z3532965/NikonSpinningDisk/240304/240301_ARMC5KO_EU/20240304_180009_911/OME-TIFF-MIP/WellL07_ChannelMono,Mono,Mono,488_Seq0097_0001.ome.tiff',\n",
       " '/srv/scratch/berrylab/z3532965/NikonSpinningDisk/240304/240301_ARMC5KO_EU/20240304_180009_911/OME-TIFF-MIP/WellL08_ChannelMono,Mono,Mono,488_Seq0096_0001.ome.tiff',\n",
       " '/srv/scratch/berrylab/z3532965/NikonSpinningDisk/240304/240301_ARMC5KO_EU/20240304_180009_911/OME-TIFF-MIP/WellM03_ChannelMono,Mono,Mono,488_Seq0102_0001.ome.tiff',\n",
       " '/srv/scratch/berrylab/z3532965/NikonSpinningDisk/240304/240301_ARMC5KO_EU/20240304_180009_911/OME-TIFF-MIP/WellM04_ChannelMono,Mono,Mono,488_Seq0103_0001.ome.tiff',\n",
       " '/srv/scratch/berrylab/z3532965/NikonSpinningDisk/240304/240301_ARMC5KO_EU/20240304_180009_911/OME-TIFF-MIP/WellM05_ChannelMono,Mono,Mono,488_Seq0104_0001.ome.tiff',\n",
       " '/srv/scratch/berrylab/z3532965/NikonSpinningDisk/240304/240301_ARMC5KO_EU/20240304_180009_911/OME-TIFF-MIP/WellM06_ChannelMono,Mono,Mono,488_Seq0105_0001.ome.tiff',\n",
       " '/srv/scratch/berrylab/z3532965/NikonSpinningDisk/240304/240301_ARMC5KO_EU/20240304_180009_911/OME-TIFF-MIP/WellM07_ChannelMono,Mono,Mono,488_Seq0106_0001.ome.tiff',\n",
       " '/srv/scratch/berrylab/z3532965/NikonSpinningDisk/240304/240301_ARMC5KO_EU/20240304_180009_911/OME-TIFF-MIP/WellM08_ChannelMono,Mono,Mono,488_Seq0107_0001.ome.tiff',\n",
       " '/srv/scratch/berrylab/z3532965/NikonSpinningDisk/240304/240301_ARMC5KO_EU/20240304_180009_911/OME-TIFF-MIP/WellN03_ChannelMono,Mono,Mono,488_Seq0113_0001.ome.tiff',\n",
       " '/srv/scratch/berrylab/z3532965/NikonSpinningDisk/240304/240301_ARMC5KO_EU/20240304_180009_911/OME-TIFF-MIP/WellN04_ChannelMono,Mono,Mono,488_Seq0112_0001.ome.tiff',\n",
       " '/srv/scratch/berrylab/z3532965/NikonSpinningDisk/240304/240301_ARMC5KO_EU/20240304_180009_911/OME-TIFF-MIP/WellN05_ChannelMono,Mono,Mono,488_Seq0111_0001.ome.tiff',\n",
       " '/srv/scratch/berrylab/z3532965/NikonSpinningDisk/240304/240301_ARMC5KO_EU/20240304_180009_911/OME-TIFF-MIP/WellN06_ChannelMono,Mono,Mono,488_Seq0110_0001.ome.tiff',\n",
       " '/srv/scratch/berrylab/z3532965/NikonSpinningDisk/240304/240301_ARMC5KO_EU/20240304_180009_911/OME-TIFF-MIP/WellN07_ChannelMono,Mono,Mono,488_Seq0109_0001.ome.tiff',\n",
       " '/srv/scratch/berrylab/z3532965/NikonSpinningDisk/240304/240301_ARMC5KO_EU/20240304_180009_911/OME-TIFF-MIP/WellN08_ChannelMono,Mono,Mono,488_Seq0108_0001.ome.tiff']"
      ]
     },
     "execution_count": 6,
     "metadata": {},
     "output_type": "execute_result"
    }
   ],
   "source": [
    "example_image_files"
   ]
  },
  {
   "cell_type": "markdown",
   "id": "f4accdef-099c-4540-9c78-4e2f1f494256",
   "metadata": {
    "tags": []
   },
   "source": [
    "## Save examples for manual background measurements"
   ]
  },
  {
   "cell_type": "code",
   "execution_count": 7,
   "id": "82bb9a73-3d0c-4c1d-b7ea-0e7d1b3abb2c",
   "metadata": {},
   "outputs": [],
   "source": [
    "examples_dir = Path(image_dir).parent / 'EXAMPLES'\n",
    "if not examples_dir.exists(): \n",
    "    examples_dir.mkdir()"
   ]
  },
  {
   "cell_type": "code",
   "execution_count": 8,
   "id": "2268b42d-b8cf-45a3-98ec-3db0d2431f3f",
   "metadata": {},
   "outputs": [],
   "source": [
    "for f in example_image_files[1:10]:\n",
    "    aics_image = AICSImage(Path(image_dir) / Path(f).name, reader=readers.ome_tiff_reader.OmeTiffReader)\n",
    "    aics_image_corrected = illumination_correction.correct(aics_image)\n",
    "    aics_image_corrected.save(examples_dir / Path(f).name)"
   ]
  },
  {
   "cell_type": "code",
   "execution_count": 9,
   "id": "367649de-697f-4f53-a9b4-342d9cf1727c",
   "metadata": {},
   "outputs": [
    {
     "data": {
      "text/plain": [
       "PosixPath('/srv/scratch/berrylab/z3532965/NikonSpinningDisk/240304/240301_ARMC5KO_EU/20240304_180009_911/EXAMPLES')"
      ]
     },
     "execution_count": 9,
     "metadata": {},
     "output_type": "execute_result"
    }
   ],
   "source": [
    "examples_dir"
   ]
  }
 ],
 "metadata": {
  "kernelspec": {
   "display_name": "berrylab-py310-jupyter",
   "language": "python",
   "name": "berrylab-py310-jupyter"
  },
  "language_info": {
   "codemirror_mode": {
    "name": "ipython",
    "version": 3
   },
   "file_extension": ".py",
   "mimetype": "text/x-python",
   "name": "python",
   "nbconvert_exporter": "python",
   "pygments_lexer": "ipython3",
   "version": "3.10.13"
  }
 },
 "nbformat": 4,
 "nbformat_minor": 5
}
