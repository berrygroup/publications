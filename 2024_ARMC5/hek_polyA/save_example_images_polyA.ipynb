{
 "cells": [
  {
   "cell_type": "code",
   "execution_count": 1,
   "id": "c638dac0-eab7-43c0-8278-c73d2e64d186",
   "metadata": {},
   "outputs": [
    {
     "name": "stderr",
     "output_type": "stream",
     "text": [
      "01-Aug-24 11:39:50 - bfio.backends - WARNING  - Java backend is not available. This could be due to a missing dependency (jpype).\n"
     ]
    }
   ],
   "source": [
    "import os\n",
    "import glob\n",
    "import napari\n",
    "import pandas as pd\n",
    "import numpy as np\n",
    "#import pyclesperanto_prototype as cle\n",
    "\n",
    "from pathlib import Path\n",
    "from aicsimageio import AICSImage, readers\n",
    "from blimp.processing.segment_and_quantify import segment_nuclei_cellpose, quantify\n",
    "from blimp.preprocessing.illumination_correction import IlluminationCorrection\n",
    "\n",
    "data_dir = \"/srv/scratch/berrylab/z3532965/NikonSpinningDisk/240322/240322_ARMC5KO_PolyA\"\n",
    "image_dir = os.path.join(data_dir,\"20240322_143358_441/OME-TIFF-MIP\")\n",
    "\n",
    "ana_dir = \"/srv/scratch/z3532965/src/publications/2024_ARMC5/hek_polyA/\"\n",
    "illum_corr_file = os.path.join(data_dir,\"/srv/scratch/berrylab/z3532965/NikonSpinningDisk/240322/240322_ARMC5KO_PolyA/ILLUMCORR/illumination_correction.pkl\")"
   ]
  },
  {
   "cell_type": "markdown",
   "id": "bfe358de-9773-47a3-9b15-d4aa132be8ca",
   "metadata": {},
   "source": [
    "# Apply illumination correction\n",
    "\n",
    "Load illumination correction object"
   ]
  },
  {
   "cell_type": "code",
   "execution_count": 2,
   "id": "a02f70fc-410d-4ae0-ac71-b747176e453a",
   "metadata": {},
   "outputs": [],
   "source": [
    "illumination_correction = IlluminationCorrection(from_file=illum_corr_file)"
   ]
  },
  {
   "cell_type": "markdown",
   "id": "202abc78-94b9-47f3-a88a-39becaad130f",
   "metadata": {},
   "source": [
    "## Save examples for training nuclear segmentation model"
   ]
  },
  {
   "cell_type": "code",
   "execution_count": 3,
   "id": "49fb7c1e-df97-4dbf-a831-9403dd71ea22",
   "metadata": {},
   "outputs": [],
   "source": [
    "training_dir = Path(image_dir).parent / 'TRAINING'\n",
    "if not training_dir.exists(): \n",
    "    training_dir.mkdir()"
   ]
  },
  {
   "cell_type": "code",
   "execution_count": 4,
   "id": "b0f67126-dee3-4cbf-9207-37582b317a17",
   "metadata": {},
   "outputs": [],
   "source": [
    "example_image_files = glob.glob(str(Path(image_dir) / \"*001.ome.tiff\"))\n",
    "example_image_files.sort()"
   ]
  },
  {
   "cell_type": "code",
   "execution_count": 5,
   "id": "f6ce64f8-b6c6-4a13-b7c0-758b3242f990",
   "metadata": {},
   "outputs": [],
   "source": [
    "for f in example_image_files[1:10]:\n",
    "    aics_image = AICSImage(Path(image_dir) / Path(f).name, reader=readers.ome_tiff_reader.OmeTiffReader)\n",
    "    aics_image_corrected = illumination_correction.correct(aics_image)\n",
    "    # crop 500 pixels from left edge and save DAPI (C=1)\n",
    "    DAPI = AICSImage(aics_image_corrected.get_image_data('YX',Z=0,C=1,T=0)[np.newaxis,np.newaxis,np.newaxis,:,500:])\n",
    "    DAPI.save(str(training_dir / Path(f).name))"
   ]
  },
  {
   "cell_type": "code",
   "execution_count": 6,
   "id": "f9a49bc2-9d7c-47de-892a-663a37b4b853",
   "metadata": {},
   "outputs": [
    {
     "data": {
      "text/plain": [
       "['/srv/scratch/berrylab/z3532965/NikonSpinningDisk/240322/240322_ARMC5KO_PolyA/20240322_143358_441/OME-TIFF-MIP/WellC03_Channel647,405,None,488_Seq0000_0001.ome.tiff',\n",
       " '/srv/scratch/berrylab/z3532965/NikonSpinningDisk/240322/240322_ARMC5KO_PolyA/20240322_143358_441/OME-TIFF-MIP/WellC04_Channel647,405,None,488_Seq0001_0001.ome.tiff',\n",
       " '/srv/scratch/berrylab/z3532965/NikonSpinningDisk/240322/240322_ARMC5KO_PolyA/20240322_143358_441/OME-TIFF-MIP/WellD03_Channel647,405,None,488_Seq0003_0001.ome.tiff',\n",
       " '/srv/scratch/berrylab/z3532965/NikonSpinningDisk/240322/240322_ARMC5KO_PolyA/20240322_143358_441/OME-TIFF-MIP/WellD04_Channel647,405,None,488_Seq0002_0001.ome.tiff',\n",
       " '/srv/scratch/berrylab/z3532965/NikonSpinningDisk/240322/240322_ARMC5KO_PolyA/20240322_143358_441/OME-TIFF-MIP/WellE03_Channel647,405,None,488_Seq0004_0001.ome.tiff',\n",
       " '/srv/scratch/berrylab/z3532965/NikonSpinningDisk/240322/240322_ARMC5KO_PolyA/20240322_143358_441/OME-TIFF-MIP/WellE04_Channel647,405,None,488_Seq0005_0001.ome.tiff',\n",
       " '/srv/scratch/berrylab/z3532965/NikonSpinningDisk/240322/240322_ARMC5KO_PolyA/20240322_143358_441/OME-TIFF-MIP/WellF03_Channel647,405,None,488_Seq0007_0001.ome.tiff',\n",
       " '/srv/scratch/berrylab/z3532965/NikonSpinningDisk/240322/240322_ARMC5KO_PolyA/20240322_143358_441/OME-TIFF-MIP/WellF04_Channel647,405,None,488_Seq0006_0001.ome.tiff',\n",
       " '/srv/scratch/berrylab/z3532965/NikonSpinningDisk/240322/240322_ARMC5KO_PolyA/20240322_143358_441/OME-TIFF-MIP/WellG03_Channel647,405,None,488_Seq0008_0001.ome.tiff',\n",
       " '/srv/scratch/berrylab/z3532965/NikonSpinningDisk/240322/240322_ARMC5KO_PolyA/20240322_143358_441/OME-TIFF-MIP/WellG04_Channel647,405,None,488_Seq0009_0001.ome.tiff',\n",
       " '/srv/scratch/berrylab/z3532965/NikonSpinningDisk/240322/240322_ARMC5KO_PolyA/20240322_143358_441/OME-TIFF-MIP/WellH03_Channel647,405,None,488_Seq0011_0001.ome.tiff',\n",
       " '/srv/scratch/berrylab/z3532965/NikonSpinningDisk/240322/240322_ARMC5KO_PolyA/20240322_143358_441/OME-TIFF-MIP/WellH04_Channel647,405,None,488_Seq0010_0001.ome.tiff',\n",
       " '/srv/scratch/berrylab/z3532965/NikonSpinningDisk/240322/240322_ARMC5KO_PolyA/20240322_143358_441/OME-TIFF-MIP/WellI03_Channel647,405,None,488_Seq0012_0001.ome.tiff',\n",
       " '/srv/scratch/berrylab/z3532965/NikonSpinningDisk/240322/240322_ARMC5KO_PolyA/20240322_143358_441/OME-TIFF-MIP/WellI04_Channel647,405,None,488_Seq0013_0001.ome.tiff',\n",
       " '/srv/scratch/berrylab/z3532965/NikonSpinningDisk/240322/240322_ARMC5KO_PolyA/20240322_143358_441/OME-TIFF-MIP/WellJ03_Channel647,405,None,488_Seq0015_0001.ome.tiff',\n",
       " '/srv/scratch/berrylab/z3532965/NikonSpinningDisk/240322/240322_ARMC5KO_PolyA/20240322_143358_441/OME-TIFF-MIP/WellJ04_Channel647,405,None,488_Seq0014_0001.ome.tiff',\n",
       " '/srv/scratch/berrylab/z3532965/NikonSpinningDisk/240322/240322_ARMC5KO_PolyA/20240322_143358_441/OME-TIFF-MIP/WellK03_Channel647,405,None,488_Seq0016_0001.ome.tiff',\n",
       " '/srv/scratch/berrylab/z3532965/NikonSpinningDisk/240322/240322_ARMC5KO_PolyA/20240322_143358_441/OME-TIFF-MIP/WellK04_Channel647,405,None,488_Seq0017_0001.ome.tiff']"
      ]
     },
     "execution_count": 6,
     "metadata": {},
     "output_type": "execute_result"
    }
   ],
   "source": [
    "example_image_files"
   ]
  },
  {
   "cell_type": "markdown",
   "id": "f4accdef-099c-4540-9c78-4e2f1f494256",
   "metadata": {
    "tags": []
   },
   "source": [
    "## Save examples for manual background measurements"
   ]
  },
  {
   "cell_type": "code",
   "execution_count": 7,
   "id": "82bb9a73-3d0c-4c1d-b7ea-0e7d1b3abb2c",
   "metadata": {},
   "outputs": [],
   "source": [
    "examples_dir = Path(image_dir).parent / 'EXAMPLES'\n",
    "if not examples_dir.exists(): \n",
    "    examples_dir.mkdir()"
   ]
  },
  {
   "cell_type": "code",
   "execution_count": 8,
   "id": "2268b42d-b8cf-45a3-98ec-3db0d2431f3f",
   "metadata": {},
   "outputs": [],
   "source": [
    "for f in example_image_files[1:10]:\n",
    "    aics_image = AICSImage(Path(image_dir) / Path(f).name, reader=readers.ome_tiff_reader.OmeTiffReader)\n",
    "    aics_image_corrected = illumination_correction.correct(aics_image)\n",
    "    aics_image_corrected.save(examples_dir / Path(f).name)"
   ]
  },
  {
   "cell_type": "code",
   "execution_count": 9,
   "id": "367649de-697f-4f53-a9b4-342d9cf1727c",
   "metadata": {},
   "outputs": [
    {
     "data": {
      "text/plain": [
       "PosixPath('/srv/scratch/berrylab/z3532965/NikonSpinningDisk/240322/240322_ARMC5KO_PolyA/20240322_143358_441/EXAMPLES')"
      ]
     },
     "execution_count": 9,
     "metadata": {},
     "output_type": "execute_result"
    }
   ],
   "source": [
    "examples_dir"
   ]
  }
 ],
 "metadata": {
  "kernelspec": {
   "display_name": "berrylab-py310-jupyter",
   "language": "python",
   "name": "berrylab-py310-jupyter"
  },
  "language_info": {
   "codemirror_mode": {
    "name": "ipython",
    "version": 3
   },
   "file_extension": ".py",
   "mimetype": "text/x-python",
   "name": "python",
   "nbconvert_exporter": "python",
   "pygments_lexer": "ipython3",
   "version": "3.10.13"
  }
 },
 "nbformat": 4,
 "nbformat_minor": 5
}
