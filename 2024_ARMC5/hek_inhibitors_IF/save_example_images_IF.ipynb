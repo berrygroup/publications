{
 "cells": [
  {
   "cell_type": "code",
   "execution_count": 1,
   "id": "c638dac0-eab7-43c0-8278-c73d2e64d186",
   "metadata": {},
   "outputs": [
    {
     "name": "stderr",
     "output_type": "stream",
     "text": [
      "26-Jun-24 17:40:05 - bfio.backends - WARNING  - Java backend is not available. This could be due to a missing dependency (jpype).\n"
     ]
    }
   ],
   "source": [
    "import os\n",
    "import glob\n",
    "import numpy as np\n",
    "\n",
    "from pathlib import Path\n",
    "from aicsimageio import AICSImage, readers\n",
    "from blimp.preprocessing.illumination_correction import IlluminationCorrection\n",
    "\n",
    "data_dir = \"/srv/scratch/berrylab/z3532965/NikonSpinningDisk/240305/240301_ARMC5KO_IF\"\n",
    "image_dir = os.path.join(data_dir,\"20240305_184055_331/OME-TIFF-MIP\")\n",
    "\n",
    "illum_corr_file = os.path.join(data_dir,\"/srv/scratch/berrylab/z3532965/NikonSpinningDisk/240305/ILLUMCORR/illumination_correction.pkl\")"
   ]
  },
  {
   "cell_type": "markdown",
   "id": "bfe358de-9773-47a3-9b15-d4aa132be8ca",
   "metadata": {},
   "source": [
    "# Apply illumination correction\n",
    "\n",
    "Load illumination correction object"
   ]
  },
  {
   "cell_type": "code",
   "execution_count": 2,
   "id": "a02f70fc-410d-4ae0-ac71-b747176e453a",
   "metadata": {},
   "outputs": [],
   "source": [
    "illumination_correction = IlluminationCorrection(from_file=illum_corr_file)"
   ]
  },
  {
   "cell_type": "markdown",
   "id": "202abc78-94b9-47f3-a88a-39becaad130f",
   "metadata": {},
   "source": [
    "## Save examples for training nuclear segmentation model"
   ]
  },
  {
   "cell_type": "code",
   "execution_count": 3,
   "id": "49fb7c1e-df97-4dbf-a831-9403dd71ea22",
   "metadata": {},
   "outputs": [],
   "source": [
    "training_dir = Path(image_dir).parent / 'TRAINING'\n",
    "if not training_dir.exists(): \n",
    "    training_dir.mkdir()"
   ]
  },
  {
   "cell_type": "code",
   "execution_count": 4,
   "id": "b0f67126-dee3-4cbf-9207-37582b317a17",
   "metadata": {},
   "outputs": [],
   "source": [
    "example_image_files = glob.glob(str(Path(image_dir) / \"*003.ome.tiff\"))"
   ]
  },
  {
   "cell_type": "code",
   "execution_count": 5,
   "id": "f6ce64f8-b6c6-4a13-b7c0-758b3242f990",
   "metadata": {},
   "outputs": [],
   "source": [
    "for f in example_image_files:\n",
    "    aics_image = AICSImage(Path(image_dir) / Path(f).name, reader=readers.ome_tiff_reader.OmeTiffReader)\n",
    "    aics_image_corrected = illumination_correction.correct(aics_image)\n",
    "    # crop 500 pixels from left edge and save DAPI (C=3)\n",
    "    DAPI = AICSImage(aics_image_corrected.get_image_data('YX',Z=0,C=3,T=0)[np.newaxis,np.newaxis,np.newaxis,:,500:])\n",
    "    DAPI.save(str(training_dir / Path(f).name))"
   ]
  },
  {
   "cell_type": "code",
   "execution_count": 6,
   "id": "799b9d07-fade-4349-8d3f-cc30eca6c318",
   "metadata": {},
   "outputs": [],
   "source": [
    "examples_dir = Path(image_dir).parent / 'EXAMPLES'\n",
    "if not examples_dir.exists(): \n",
    "    examples_dir.mkdir()"
   ]
  },
  {
   "cell_type": "code",
   "execution_count": 7,
   "id": "623de297-a545-4e2a-a3e5-2eebcf85fd08",
   "metadata": {},
   "outputs": [],
   "source": [
    "for f in example_image_files[1:4]:\n",
    "    aics_image = AICSImage(Path(image_dir) / Path(f).name, reader=readers.ome_tiff_reader.OmeTiffReader)\n",
    "    aics_image_corrected = illumination_correction.correct(aics_image)\n",
    "    aics_image_corrected.save(examples_dir / Path(f).name)"
   ]
  },
  {
   "cell_type": "code",
   "execution_count": 8,
   "id": "8d12f44b-e692-4582-aea6-b1af5bd90105",
   "metadata": {},
   "outputs": [
    {
     "data": {
      "text/plain": [
       "PosixPath('/srv/scratch/berrylab/z3532965/NikonSpinningDisk/240305/240301_ARMC5KO_IF/20240305_184055_331/EXAMPLES')"
      ]
     },
     "execution_count": 8,
     "metadata": {},
     "output_type": "execute_result"
    }
   ],
   "source": [
    "examples_dir"
   ]
  }
 ],
 "metadata": {
  "kernelspec": {
   "display_name": "berrylab-py310-jupyter",
   "language": "python",
   "name": "berrylab-py310-jupyter"
  },
  "language_info": {
   "codemirror_mode": {
    "name": "ipython",
    "version": 3
   },
   "file_extension": ".py",
   "mimetype": "text/x-python",
   "name": "python",
   "nbconvert_exporter": "python",
   "pygments_lexer": "ipython3",
   "version": "3.10.13"
  }
 },
 "nbformat": 4,
 "nbformat_minor": 5
}
